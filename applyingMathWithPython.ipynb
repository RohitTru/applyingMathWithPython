{
 "cells": [
  {
   "cell_type": "markdown",
   "metadata": {},
   "source": [
    "# Applying Math With Python\n",
    "\n",
    "\n",
    "## Contents:\n",
    "\n",
    "| Section | Description |\n",
    "| ------- | ----------- |\n",
    "| [Mathematical Plotting With Matplotlib](#Mathematical-Plotting-With-Matplotlib) | stuff stuff stuff |\n",
    "| [Calculus and Differential Equations](#Calculus-and-Differential-Equations) | Description of this section |\n",
    "| [Working with Randomness and Probability](#Working-with-Randomness-and-Probability) | Description of this section |\n",
    "| [Working with Trees and Networks](#Working-with-Trees-and-Networks) | Description of this section |\n",
    "| [Working with Data and Statistics](#Working with Data and Statistics) | Description of this section |\n",
    "| [Regression and Forecasting](#Regression-and-Forecasting) | Description of this section |\n",
    "| [Geometric Problems](#Geometric-Problems) | Description of this section |\n",
    "| [Finding Optimal Solutions](#Finding-Optimal-Solutions) | Description of this section |\n"
   ]
  },
  {
   "cell_type": "markdown",
   "metadata": {},
   "source": [
    "# Mathematical-Plotting-With-Matplotlib"
   ]
  }
 ],
 "metadata": {
  "language_info": {
   "name": "python"
  }
 },
 "nbformat": 4,
 "nbformat_minor": 2
}
